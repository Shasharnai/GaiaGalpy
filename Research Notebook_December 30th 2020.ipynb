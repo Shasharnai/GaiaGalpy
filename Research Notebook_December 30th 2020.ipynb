{
 "cells": [
  {
   "cell_type": "code",
   "execution_count": 1,
   "metadata": {},
   "outputs": [
    {
     "name": "stdout",
     "output_type": "stream",
     "text": [
      "galpyWarning: interppotential_c extension module not loaded, because galpy_interppotential_c.cpython-37m-darwin.so image was not found\n",
      "galpyWarning: integratePlanarOrbit_c extension module not loaded, because galpy_integrate_c.cpython-37m-darwin.so image was not found\n",
      "galpyWarning: integrateFullOrbit_c extension module not loaded, because galpy_integrate_c.cpython-37m-darwin.so image was not found\n",
      "galpyWarning: integrateLinearOrbit_c extension module not loaded, because galpy_integrate_c.cpython-37m-darwin.so image was not found\n"
     ]
    }
   ],
   "source": [
    "import numpy as np\n",
    "import pandas as pd\n",
    "import matplotlib.pyplot as plt\n",
    "import astropy.units as u\n",
    "import astropy.coordinates as coord\n",
    "\n",
    "from astropy.coordinates import SkyCoord\n",
    "from galpy.orbit import Orbit\n",
    "from galpy.potential import MWPotential2014\n",
    "\n",
    "\n",
    "from GaiaGalpy import gaia_to_galpy\n",
    "from GaiaGalpy import Filter\n",
    "from GaiaGalpy import Path\n"
   ]
  },
  {
   "cell_type": "markdown",
   "metadata": {},
   "source": [
    "# Main source"
   ]
  },
  {
   "cell_type": "markdown",
   "metadata": {},
   "source": [
    "Jo Bovy's lectures in galactice dynamics chapters 3,9,10,11"
   ]
  },
  {
   "cell_type": "markdown",
   "metadata": {},
   "source": [
    "# Objective"
   ]
  },
  {
   "cell_type": "markdown",
   "metadata": {},
   "source": [
    "Filter out the angular velocity of the stars that are in-tune with Sun first assuming a perfectly phi-symmetirc galactic disk and second taking average. They should be very similar since the time period that I am looking at is small compared to their orbital period. Allow a divergence of 20pc per 300Myr. First I need to tranfer to the galactocentric coordinate system using Astropy and then the rest would be easy. The stars must be in the vicinity of Sun therefore their radial distance from the center of the galaxy must be approximately equal to that of the Sun, a little up or down. The angular considerations are already taken into account in the first few sentences."
   ]
  },
  {
   "cell_type": "markdown",
   "metadata": {},
   "source": [
    "# Procedure"
   ]
  },
  {
   "cell_type": "markdown",
   "metadata": {},
   "source": [
    "1. Define a function that tunrs data from Gaia into a proper formate so it can be used by Galpy–the should be in galactocentric coordinate. GaiaGalpy functions can be very useful.  \n",
    "2. Define the Keplerian orbit for these stars disregarding any motion above the plane of the galaxy and apply the proper angular frequency and distance constraints to designate the candidate stars. \n",
    "3. Take into account the oscillatory frequencies in the motion of these stars and detect how close they would get to the Sun. "
   ]
  },
  {
   "cell_type": "markdown",
   "metadata": {},
   "source": [
    "# Thing to consider"
   ]
  },
  {
   "cell_type": "markdown",
   "metadata": {},
   "source": [
    "I may want to take into account the spiral arms of the galaxy later on. What changes would occur if I consider the motion of these stars above the plane of the galaxy?"
   ]
  },
  {
   "cell_type": "code",
   "execution_count": 2,
   "metadata": {},
   "outputs": [],
   "source": [
    "Init_Galpy= gaia_to_galpy('/Users/shasha/Desktop/Research/Manoj Kaplinghat /GaiaGalpy/Data/Gaia stars with radial velocity/GaiaSource_2851858288640_1584379458008952960.csv.gz')"
   ]
  },
  {
   "cell_type": "code",
   "execution_count": 3,
   "metadata": {},
   "outputs": [
    {
     "data": {
      "text/plain": [
       "(453022, 7)"
      ]
     },
     "execution_count": 3,
     "metadata": {},
     "output_type": "execute_result"
    }
   ],
   "source": [
    "Init_Galpy.shape"
   ]
  },
  {
   "cell_type": "code",
   "execution_count": 4,
   "metadata": {},
   "outputs": [],
   "source": [
    "o= Orbit(Init_Galpy[:,1:],radec=True)\n",
    "o0= Orbit(None)"
   ]
  },
  {
   "cell_type": "code",
   "execution_count": 5,
   "metadata": {},
   "outputs": [],
   "source": [
    "def AngFreq(Init_Galpy):\n",
    "    \n",
    "    o= Orbit(Init_Galpy[:,1:],radec=True)\n",
    "    o0= Orbit(None)\n",
    "\n",
    "    W=[]\n",
    "\n",
    "    for i in range(0, len(o)):\n",
    "\n",
    "        R= o[i].R()\n",
    "        vx= o[i].vx()\n",
    "        vy= o[i].vy()\n",
    "        S= (vx*vx + vy*vy)**0.5\n",
    "\n",
    "        w= S/R\n",
    "\n",
    "        W.append(w)\n",
    "\n",
    "    a= Init_Galpy[:,0]\n",
    "    a_list= list(a)\n",
    "\n",
    "    df= pd.DataFrame(data=W)\n",
    "\n",
    "    data= {'source_id': a_list ,'angular frequency': df.iloc[:,0]}\n",
    "    D= pd.DataFrame(data=data, columns=['source_id','angular frequency'])\n",
    "\n",
    "\n",
    "    return D"
   ]
  },
  {
   "cell_type": "code",
   "execution_count": 6,
   "metadata": {},
   "outputs": [],
   "source": [
    "o= Orbit(Init_Galpy[:,1:],radec=True)\n",
    "o0= Orbit(None)\n",
    "\n",
    "W=[]\n",
    "\n",
    "for i in range(0, len(o)):\n",
    "\n",
    "    R= o[i].R()\n",
    "    vx= o[i].vx()\n",
    "    vy= o[i].vy()\n",
    "    S= (vx*vx + vy*vy)**0.5\n",
    "\n",
    "    w= S/R\n",
    "\n",
    "    W.append(w)\n",
    "\n",
    "a= Init_Galpy[:,0]\n",
    "a_list= list(a)"
   ]
  },
  {
   "cell_type": "code",
   "execution_count": 7,
   "metadata": {},
   "outputs": [],
   "source": [
    "aa= Init_Galpy[:,0].astype('int64')\n",
    "aa_list= list(aa)"
   ]
  },
  {
   "cell_type": "code",
   "execution_count": 8,
   "metadata": {},
   "outputs": [],
   "source": [
    "df= pd.DataFrame(data=W)\n",
    "\n",
    "data= {'source_id': aa_list ,'angular frequency': df.iloc[:,0]}\n",
    "D= pd.DataFrame(data=data, columns=['source_id','angular frequency'])\n"
   ]
  },
  {
   "cell_type": "code",
   "execution_count": 9,
   "metadata": {},
   "outputs": [
    {
     "data": {
      "text/html": [
       "<div>\n",
       "<style scoped>\n",
       "    .dataframe tbody tr th:only-of-type {\n",
       "        vertical-align: middle;\n",
       "    }\n",
       "\n",
       "    .dataframe tbody tr th {\n",
       "        vertical-align: top;\n",
       "    }\n",
       "\n",
       "    .dataframe thead th {\n",
       "        text-align: right;\n",
       "    }\n",
       "</style>\n",
       "<table border=\"1\" class=\"dataframe\">\n",
       "  <thead>\n",
       "    <tr style=\"text-align: right;\">\n",
       "      <th></th>\n",
       "      <th>source_id</th>\n",
       "      <th>angular frequency</th>\n",
       "    </tr>\n",
       "  </thead>\n",
       "  <tbody>\n",
       "    <tr>\n",
       "      <td>0</td>\n",
       "      <td>15637976759168</td>\n",
       "      <td>26.793686</td>\n",
       "    </tr>\n",
       "    <tr>\n",
       "      <td>1</td>\n",
       "      <td>17149805245440</td>\n",
       "      <td>26.790641</td>\n",
       "    </tr>\n",
       "    <tr>\n",
       "      <td>2</td>\n",
       "      <td>21788369897344</td>\n",
       "      <td>21.550224</td>\n",
       "    </tr>\n",
       "    <tr>\n",
       "      <td>3</td>\n",
       "      <td>29278792888448</td>\n",
       "      <td>21.799226</td>\n",
       "    </tr>\n",
       "    <tr>\n",
       "      <td>4</td>\n",
       "      <td>33264522507136</td>\n",
       "      <td>17.617662</td>\n",
       "    </tr>\n",
       "    <tr>\n",
       "      <td>...</td>\n",
       "      <td>...</td>\n",
       "      <td>...</td>\n",
       "    </tr>\n",
       "    <tr>\n",
       "      <td>453017</td>\n",
       "      <td>1584370593196445696</td>\n",
       "      <td>31.350322</td>\n",
       "    </tr>\n",
       "    <tr>\n",
       "      <td>453018</td>\n",
       "      <td>1584371692708076544</td>\n",
       "      <td>24.182444</td>\n",
       "    </tr>\n",
       "    <tr>\n",
       "      <td>453019</td>\n",
       "      <td>1584376022035134464</td>\n",
       "      <td>32.477614</td>\n",
       "    </tr>\n",
       "    <tr>\n",
       "      <td>453020</td>\n",
       "      <td>1584378770814182656</td>\n",
       "      <td>24.695515</td>\n",
       "    </tr>\n",
       "    <tr>\n",
       "      <td>453021</td>\n",
       "      <td>1584379458008952832</td>\n",
       "      <td>27.215887</td>\n",
       "    </tr>\n",
       "  </tbody>\n",
       "</table>\n",
       "<p>453022 rows × 2 columns</p>\n",
       "</div>"
      ],
      "text/plain": [
       "                  source_id  angular frequency\n",
       "0            15637976759168          26.793686\n",
       "1            17149805245440          26.790641\n",
       "2            21788369897344          21.550224\n",
       "3            29278792888448          21.799226\n",
       "4            33264522507136          17.617662\n",
       "...                     ...                ...\n",
       "453017  1584370593196445696          31.350322\n",
       "453018  1584371692708076544          24.182444\n",
       "453019  1584376022035134464          32.477614\n",
       "453020  1584378770814182656          24.695515\n",
       "453021  1584379458008952832          27.215887\n",
       "\n",
       "[453022 rows x 2 columns]"
      ]
     },
     "execution_count": 9,
     "metadata": {},
     "output_type": "execute_result"
    }
   ],
   "source": [
    "D"
   ]
  },
  {
   "cell_type": "code",
   "execution_count": 10,
   "metadata": {},
   "outputs": [
    {
     "data": {
      "text/plain": [
       "26.79368635616854"
      ]
     },
     "execution_count": 10,
     "metadata": {},
     "output_type": "execute_result"
    }
   ],
   "source": [
    "D.iloc[0,1]"
   ]
  },
  {
   "cell_type": "code",
   "execution_count": 11,
   "metadata": {},
   "outputs": [
    {
     "data": {
      "text/plain": [
       "26.79064078417655"
      ]
     },
     "execution_count": 11,
     "metadata": {},
     "output_type": "execute_result"
    }
   ],
   "source": [
    "D.iloc[1,1]"
   ]
  },
  {
   "cell_type": "code",
   "execution_count": 12,
   "metadata": {},
   "outputs": [
    {
     "data": {
      "text/plain": [
       "0         26.793686\n",
       "1         26.790641\n",
       "2         21.550224\n",
       "3         21.799226\n",
       "4         17.617662\n",
       "            ...    \n",
       "453017    31.350322\n",
       "453018    24.182444\n",
       "453019    32.477614\n",
       "453020    24.695515\n",
       "453021    27.215887\n",
       "Name: angular frequency, Length: 453022, dtype: float64"
      ]
     },
     "execution_count": 12,
     "metadata": {},
     "output_type": "execute_result"
    }
   ],
   "source": [
    "D.iloc[:,1]"
   ]
  },
  {
   "cell_type": "code",
   "execution_count": 13,
   "metadata": {},
   "outputs": [
    {
     "data": {
      "text/plain": [
       "0              15637976759168\n",
       "1              17149805245440\n",
       "2              21788369897344\n",
       "3              29278792888448\n",
       "4              33264522507136\n",
       "                 ...         \n",
       "453017    1584370593196445696\n",
       "453018    1584371692708076544\n",
       "453019    1584376022035134464\n",
       "453020    1584378770814182656\n",
       "453021    1584379458008952832\n",
       "Name: source_id, Length: 453022, dtype: int64"
      ]
     },
     "execution_count": 13,
     "metadata": {},
     "output_type": "execute_result"
    }
   ],
   "source": [
    "D.iloc[:,0]"
   ]
  },
  {
   "cell_type": "code",
   "execution_count": null,
   "metadata": {},
   "outputs": [],
   "source": []
  },
  {
   "cell_type": "code",
   "execution_count": null,
   "metadata": {},
   "outputs": [],
   "source": []
  },
  {
   "cell_type": "code",
   "execution_count": 14,
   "metadata": {},
   "outputs": [],
   "source": [
    "df= pd.DataFrame(data=W, columns=['frequency'])"
   ]
  },
  {
   "cell_type": "code",
   "execution_count": 15,
   "metadata": {},
   "outputs": [
    {
     "data": {
      "text/plain": [
       "0         26.793686\n",
       "1         26.790641\n",
       "2         21.550224\n",
       "3         21.799226\n",
       "4         17.617662\n",
       "            ...    \n",
       "453017    31.350322\n",
       "453018    24.182444\n",
       "453019    32.477614\n",
       "453020    24.695515\n",
       "453021    27.215887\n",
       "Name: frequency, Length: 453022, dtype: float64"
      ]
     },
     "execution_count": 15,
     "metadata": {},
     "output_type": "execute_result"
    }
   ],
   "source": [
    "df.iloc[:,0]"
   ]
  },
  {
   "cell_type": "code",
   "execution_count": null,
   "metadata": {},
   "outputs": [],
   "source": []
  },
  {
   "cell_type": "code",
   "execution_count": null,
   "metadata": {},
   "outputs": [],
   "source": []
  },
  {
   "cell_type": "code",
   "execution_count": 16,
   "metadata": {},
   "outputs": [],
   "source": [
    "def FreqFil(data, b=0.001): #data should be a pandas data frame\n",
    "    \n",
    "    o0= Orbit(None)\n",
    "    R0= o0.R()\n",
    "    vx0= o0.vx()\n",
    "    vy0= o0.vy()\n",
    "    S0= (vx0*vx0 + vy0*vy0)**0.5\n",
    "    w0= S0/R0\n",
    "    \n",
    "    d= np.array(data.iloc[:,1])\n",
    "    \n",
    "    WR=[] #This will give the relative error\n",
    "    \n",
    "    for i in range(0,len(d)):\n",
    "        wr= ((d[i]-w0)**2)**0.5 /d[i]\n",
    "        WR.append(wr)\n",
    "\n",
    "    D0= {'source_id': data.iloc[:,0],'relative_frequency': WR}\n",
    "    D1= pd.DataFrame(data=D0, columns=['source_id','relative_frequency'])\n",
    "    \n",
    "    D1_filtered= D1.query('relative_frequency < {0}'.format(b))\n",
    "    \n",
    "    return D1_filtered\n",
    "    "
   ]
  },
  {
   "cell_type": "code",
   "execution_count": 17,
   "metadata": {},
   "outputs": [],
   "source": [
    "FreqFil0= FreqFil(D,0.00001)"
   ]
  },
  {
   "cell_type": "code",
   "execution_count": 18,
   "metadata": {},
   "outputs": [
    {
     "data": {
      "text/html": [
       "<div>\n",
       "<style scoped>\n",
       "    .dataframe tbody tr th:only-of-type {\n",
       "        vertical-align: middle;\n",
       "    }\n",
       "\n",
       "    .dataframe tbody tr th {\n",
       "        vertical-align: top;\n",
       "    }\n",
       "\n",
       "    .dataframe thead th {\n",
       "        text-align: right;\n",
       "    }\n",
       "</style>\n",
       "<table border=\"1\" class=\"dataframe\">\n",
       "  <thead>\n",
       "    <tr style=\"text-align: right;\">\n",
       "      <th></th>\n",
       "      <th>source_id</th>\n",
       "      <th>relative_frequency</th>\n",
       "    </tr>\n",
       "  </thead>\n",
       "  <tbody>\n",
       "    <tr>\n",
       "      <td>18218</td>\n",
       "      <td>80443710957534848</td>\n",
       "      <td>3.702413e-07</td>\n",
       "    </tr>\n",
       "    <tr>\n",
       "      <td>54250</td>\n",
       "      <td>207734756224163328</td>\n",
       "      <td>8.122736e-06</td>\n",
       "    </tr>\n",
       "    <tr>\n",
       "      <td>61252</td>\n",
       "      <td>226831383412409088</td>\n",
       "      <td>7.438065e-06</td>\n",
       "    </tr>\n",
       "    <tr>\n",
       "      <td>70316</td>\n",
       "      <td>248545432394617344</td>\n",
       "      <td>1.029189e-06</td>\n",
       "    </tr>\n",
       "    <tr>\n",
       "      <td>78959</td>\n",
       "      <td>270387467096467584</td>\n",
       "      <td>7.371906e-06</td>\n",
       "    </tr>\n",
       "    <tr>\n",
       "      <td>86373</td>\n",
       "      <td>290773409108349184</td>\n",
       "      <td>3.784503e-06</td>\n",
       "    </tr>\n",
       "    <tr>\n",
       "      <td>109807</td>\n",
       "      <td>360232174274149120</td>\n",
       "      <td>7.785638e-06</td>\n",
       "    </tr>\n",
       "    <tr>\n",
       "      <td>150139</td>\n",
       "      <td>441538104214084736</td>\n",
       "      <td>5.979772e-07</td>\n",
       "    </tr>\n",
       "    <tr>\n",
       "      <td>171808</td>\n",
       "      <td>487052113165030528</td>\n",
       "      <td>2.112410e-06</td>\n",
       "    </tr>\n",
       "    <tr>\n",
       "      <td>172582</td>\n",
       "      <td>488746941619553280</td>\n",
       "      <td>6.220665e-06</td>\n",
       "    </tr>\n",
       "    <tr>\n",
       "      <td>204259</td>\n",
       "      <td>554990833564348800</td>\n",
       "      <td>4.750879e-06</td>\n",
       "    </tr>\n",
       "    <tr>\n",
       "      <td>229568</td>\n",
       "      <td>650020764559191808</td>\n",
       "      <td>9.824615e-06</td>\n",
       "    </tr>\n",
       "    <tr>\n",
       "      <td>231084</td>\n",
       "      <td>654869816995252864</td>\n",
       "      <td>6.421931e-06</td>\n",
       "    </tr>\n",
       "    <tr>\n",
       "      <td>246982</td>\n",
       "      <td>715978023270106624</td>\n",
       "      <td>7.442120e-06</td>\n",
       "    </tr>\n",
       "    <tr>\n",
       "      <td>250239</td>\n",
       "      <td>735364685305959040</td>\n",
       "      <td>9.922159e-06</td>\n",
       "    </tr>\n",
       "    <tr>\n",
       "      <td>267624</td>\n",
       "      <td>838120712711773184</td>\n",
       "      <td>9.365627e-06</td>\n",
       "    </tr>\n",
       "    <tr>\n",
       "      <td>284385</td>\n",
       "      <td>901526868225793152</td>\n",
       "      <td>2.069810e-06</td>\n",
       "    </tr>\n",
       "    <tr>\n",
       "      <td>325151</td>\n",
       "      <td>1041498271855752832</td>\n",
       "      <td>3.557354e-06</td>\n",
       "    </tr>\n",
       "    <tr>\n",
       "      <td>337522</td>\n",
       "      <td>1091563228156155520</td>\n",
       "      <td>8.122587e-07</td>\n",
       "    </tr>\n",
       "    <tr>\n",
       "      <td>346869</td>\n",
       "      <td>1118015485054962176</td>\n",
       "      <td>1.367892e-06</td>\n",
       "    </tr>\n",
       "    <tr>\n",
       "      <td>373452</td>\n",
       "      <td>1222063232468901376</td>\n",
       "      <td>3.598300e-06</td>\n",
       "    </tr>\n",
       "    <tr>\n",
       "      <td>388469</td>\n",
       "      <td>1300804723328714240</td>\n",
       "      <td>3.006209e-06</td>\n",
       "    </tr>\n",
       "    <tr>\n",
       "      <td>405891</td>\n",
       "      <td>1359817539614617344</td>\n",
       "      <td>1.982162e-06</td>\n",
       "    </tr>\n",
       "    <tr>\n",
       "      <td>415907</td>\n",
       "      <td>1399196235030090752</td>\n",
       "      <td>7.276639e-06</td>\n",
       "    </tr>\n",
       "    <tr>\n",
       "      <td>419565</td>\n",
       "      <td>1413366470306421760</td>\n",
       "      <td>3.837684e-06</td>\n",
       "    </tr>\n",
       "    <tr>\n",
       "      <td>424407</td>\n",
       "      <td>1429471253341637120</td>\n",
       "      <td>8.461045e-06</td>\n",
       "    </tr>\n",
       "    <tr>\n",
       "      <td>448200</td>\n",
       "      <td>1559277951145533952</td>\n",
       "      <td>4.308154e-06</td>\n",
       "    </tr>\n",
       "  </tbody>\n",
       "</table>\n",
       "</div>"
      ],
      "text/plain": [
       "                  source_id  relative_frequency\n",
       "18218     80443710957534848        3.702413e-07\n",
       "54250    207734756224163328        8.122736e-06\n",
       "61252    226831383412409088        7.438065e-06\n",
       "70316    248545432394617344        1.029189e-06\n",
       "78959    270387467096467584        7.371906e-06\n",
       "86373    290773409108349184        3.784503e-06\n",
       "109807   360232174274149120        7.785638e-06\n",
       "150139   441538104214084736        5.979772e-07\n",
       "171808   487052113165030528        2.112410e-06\n",
       "172582   488746941619553280        6.220665e-06\n",
       "204259   554990833564348800        4.750879e-06\n",
       "229568   650020764559191808        9.824615e-06\n",
       "231084   654869816995252864        6.421931e-06\n",
       "246982   715978023270106624        7.442120e-06\n",
       "250239   735364685305959040        9.922159e-06\n",
       "267624   838120712711773184        9.365627e-06\n",
       "284385   901526868225793152        2.069810e-06\n",
       "325151  1041498271855752832        3.557354e-06\n",
       "337522  1091563228156155520        8.122587e-07\n",
       "346869  1118015485054962176        1.367892e-06\n",
       "373452  1222063232468901376        3.598300e-06\n",
       "388469  1300804723328714240        3.006209e-06\n",
       "405891  1359817539614617344        1.982162e-06\n",
       "415907  1399196235030090752        7.276639e-06\n",
       "419565  1413366470306421760        3.837684e-06\n",
       "424407  1429471253341637120        8.461045e-06\n",
       "448200  1559277951145533952        4.308154e-06"
      ]
     },
     "execution_count": 18,
     "metadata": {},
     "output_type": "execute_result"
    }
   ],
   "source": [
    "FreqFil0"
   ]
  },
  {
   "cell_type": "code",
   "execution_count": 19,
   "metadata": {},
   "outputs": [
    {
     "data": {
      "text/plain": [
       "(27, 2)"
      ]
     },
     "execution_count": 19,
     "metadata": {},
     "output_type": "execute_result"
    }
   ],
   "source": [
    "FreqFil0.shape"
   ]
  },
  {
   "cell_type": "code",
   "execution_count": null,
   "metadata": {},
   "outputs": [],
   "source": []
  },
  {
   "cell_type": "code",
   "execution_count": 20,
   "metadata": {},
   "outputs": [],
   "source": [
    "Filter=Filter('/Users/shasha/Desktop/Research/Manoj Kaplinghat /GaiaGalpy/Data/Gaia stars with radial velocity/GaiaSource_2851858288640_1584379458008952960.csv.gz')"
   ]
  },
  {
   "cell_type": "code",
   "execution_count": 21,
   "metadata": {},
   "outputs": [
    {
     "data": {
      "text/html": [
       "<div>\n",
       "<style scoped>\n",
       "    .dataframe tbody tr th:only-of-type {\n",
       "        vertical-align: middle;\n",
       "    }\n",
       "\n",
       "    .dataframe tbody tr th {\n",
       "        vertical-align: top;\n",
       "    }\n",
       "\n",
       "    .dataframe thead th {\n",
       "        text-align: right;\n",
       "    }\n",
       "</style>\n",
       "<table border=\"1\" class=\"dataframe\">\n",
       "  <thead>\n",
       "    <tr style=\"text-align: right;\">\n",
       "      <th></th>\n",
       "      <th>source_id</th>\n",
       "      <th>distance</th>\n",
       "      <th>radial_velocity</th>\n",
       "      <th>dec</th>\n",
       "      <th>ra</th>\n",
       "      <th>pmra</th>\n",
       "      <th>pmdec</th>\n",
       "      <th>rel_p_err</th>\n",
       "      <th>rel_rad_err</th>\n",
       "      <th>rel_dec_err</th>\n",
       "      <th>rel_pmdec_err</th>\n",
       "      <th>rel_pmra_err</th>\n",
       "      <th>rel_ra_err</th>\n",
       "    </tr>\n",
       "  </thead>\n",
       "  <tbody>\n",
       "    <tr>\n",
       "      <td>8</td>\n",
       "      <td>15637976759168</td>\n",
       "      <td>0.762535</td>\n",
       "      <td>-29.915697</td>\n",
       "      <td>0.344149</td>\n",
       "      <td>45.194622</td>\n",
       "      <td>1.905093</td>\n",
       "      <td>-0.104026</td>\n",
       "      <td>0.020848</td>\n",
       "      <td>-0.127016</td>\n",
       "      <td>0.060397</td>\n",
       "      <td>-0.464400</td>\n",
       "      <td>0.023752</td>\n",
       "      <td>0.000478</td>\n",
       "    </tr>\n",
       "    <tr>\n",
       "      <td>11</td>\n",
       "      <td>17149805245440</td>\n",
       "      <td>0.613763</td>\n",
       "      <td>30.375573</td>\n",
       "      <td>0.403600</td>\n",
       "      <td>45.172876</td>\n",
       "      <td>8.397275</td>\n",
       "      <td>2.950902</td>\n",
       "      <td>0.027334</td>\n",
       "      <td>0.081721</td>\n",
       "      <td>0.086164</td>\n",
       "      <td>0.028881</td>\n",
       "      <td>0.009145</td>\n",
       "      <td>0.000788</td>\n",
       "    </tr>\n",
       "    <tr>\n",
       "      <td>12</td>\n",
       "      <td>21788369897344</td>\n",
       "      <td>0.481838</td>\n",
       "      <td>-2.647520</td>\n",
       "      <td>0.332088</td>\n",
       "      <td>44.872858</td>\n",
       "      <td>16.040961</td>\n",
       "      <td>-16.908529</td>\n",
       "      <td>0.021661</td>\n",
       "      <td>-3.108356</td>\n",
       "      <td>0.081807</td>\n",
       "      <td>-0.003521</td>\n",
       "      <td>0.003746</td>\n",
       "      <td>0.000846</td>\n",
       "    </tr>\n",
       "    <tr>\n",
       "      <td>15</td>\n",
       "      <td>29278792888448</td>\n",
       "      <td>0.767627</td>\n",
       "      <td>-12.840195</td>\n",
       "      <td>0.443261</td>\n",
       "      <td>45.149983</td>\n",
       "      <td>3.860539</td>\n",
       "      <td>-15.002175</td>\n",
       "      <td>0.028035</td>\n",
       "      <td>-0.056230</td>\n",
       "      <td>0.058889</td>\n",
       "      <td>-0.003970</td>\n",
       "      <td>0.016711</td>\n",
       "      <td>0.000747</td>\n",
       "    </tr>\n",
       "    <tr>\n",
       "      <td>16</td>\n",
       "      <td>33264522507136</td>\n",
       "      <td>0.704963</td>\n",
       "      <td>17.330323</td>\n",
       "      <td>0.473469</td>\n",
       "      <td>44.974661</td>\n",
       "      <td>10.434865</td>\n",
       "      <td>-24.788964</td>\n",
       "      <td>0.035740</td>\n",
       "      <td>0.044455</td>\n",
       "      <td>0.076573</td>\n",
       "      <td>-0.003193</td>\n",
       "      <td>0.007727</td>\n",
       "      <td>0.000963</td>\n",
       "    </tr>\n",
       "    <tr>\n",
       "      <td>...</td>\n",
       "      <td>...</td>\n",
       "      <td>...</td>\n",
       "      <td>...</td>\n",
       "      <td>...</td>\n",
       "      <td>...</td>\n",
       "      <td>...</td>\n",
       "      <td>...</td>\n",
       "      <td>...</td>\n",
       "      <td>...</td>\n",
       "      <td>...</td>\n",
       "      <td>...</td>\n",
       "      <td>...</td>\n",
       "      <td>...</td>\n",
       "    </tr>\n",
       "    <tr>\n",
       "      <td>999995</td>\n",
       "      <td>1584370593196445824</td>\n",
       "      <td>0.355762</td>\n",
       "      <td>24.199749</td>\n",
       "      <td>63.353966</td>\n",
       "      <td>183.098763</td>\n",
       "      <td>-30.092898</td>\n",
       "      <td>23.443970</td>\n",
       "      <td>0.007423</td>\n",
       "      <td>0.039228</td>\n",
       "      <td>0.000251</td>\n",
       "      <td>0.001324</td>\n",
       "      <td>-0.001222</td>\n",
       "      <td>0.000111</td>\n",
       "    </tr>\n",
       "    <tr>\n",
       "      <td>999996</td>\n",
       "      <td>1584371692708076544</td>\n",
       "      <td>0.286326</td>\n",
       "      <td>-33.246557</td>\n",
       "      <td>63.400569</td>\n",
       "      <td>182.943438</td>\n",
       "      <td>-7.269618</td>\n",
       "      <td>-17.111226</td>\n",
       "      <td>0.007577</td>\n",
       "      <td>-0.015732</td>\n",
       "      <td>0.000335</td>\n",
       "      <td>-0.002431</td>\n",
       "      <td>-0.005760</td>\n",
       "      <td>0.000127</td>\n",
       "    </tr>\n",
       "    <tr>\n",
       "      <td>999997</td>\n",
       "      <td>1584376022035134592</td>\n",
       "      <td>0.515196</td>\n",
       "      <td>22.353831</td>\n",
       "      <td>63.488923</td>\n",
       "      <td>182.585973</td>\n",
       "      <td>10.771528</td>\n",
       "      <td>5.881404</td>\n",
       "      <td>0.011293</td>\n",
       "      <td>0.047426</td>\n",
       "      <td>0.000262</td>\n",
       "      <td>0.005628</td>\n",
       "      <td>0.003599</td>\n",
       "      <td>0.000111</td>\n",
       "    </tr>\n",
       "    <tr>\n",
       "      <td>999998</td>\n",
       "      <td>1584378770814182656</td>\n",
       "      <td>0.610604</td>\n",
       "      <td>-74.945481</td>\n",
       "      <td>63.485937</td>\n",
       "      <td>183.079625</td>\n",
       "      <td>13.670553</td>\n",
       "      <td>-15.102476</td>\n",
       "      <td>0.014972</td>\n",
       "      <td>-0.025172</td>\n",
       "      <td>0.000284</td>\n",
       "      <td>-0.002339</td>\n",
       "      <td>0.002844</td>\n",
       "      <td>0.000116</td>\n",
       "    </tr>\n",
       "    <tr>\n",
       "      <td>999999</td>\n",
       "      <td>1584379458008952960</td>\n",
       "      <td>0.439375</td>\n",
       "      <td>-6.486971</td>\n",
       "      <td>63.560963</td>\n",
       "      <td>183.070826</td>\n",
       "      <td>-4.921987</td>\n",
       "      <td>-1.333483</td>\n",
       "      <td>0.010167</td>\n",
       "      <td>-2.063832</td>\n",
       "      <td>0.000276</td>\n",
       "      <td>-0.026872</td>\n",
       "      <td>-0.008120</td>\n",
       "      <td>0.000114</td>\n",
       "    </tr>\n",
       "  </tbody>\n",
       "</table>\n",
       "<p>453022 rows × 13 columns</p>\n",
       "</div>"
      ],
      "text/plain": [
       "                  source_id  distance  radial_velocity        dec          ra  \\\n",
       "8            15637976759168  0.762535       -29.915697   0.344149   45.194622   \n",
       "11           17149805245440  0.613763        30.375573   0.403600   45.172876   \n",
       "12           21788369897344  0.481838        -2.647520   0.332088   44.872858   \n",
       "15           29278792888448  0.767627       -12.840195   0.443261   45.149983   \n",
       "16           33264522507136  0.704963        17.330323   0.473469   44.974661   \n",
       "...                     ...       ...              ...        ...         ...   \n",
       "999995  1584370593196445824  0.355762        24.199749  63.353966  183.098763   \n",
       "999996  1584371692708076544  0.286326       -33.246557  63.400569  182.943438   \n",
       "999997  1584376022035134592  0.515196        22.353831  63.488923  182.585973   \n",
       "999998  1584378770814182656  0.610604       -74.945481  63.485937  183.079625   \n",
       "999999  1584379458008952960  0.439375        -6.486971  63.560963  183.070826   \n",
       "\n",
       "             pmra      pmdec  rel_p_err  rel_rad_err  rel_dec_err  \\\n",
       "8        1.905093  -0.104026   0.020848    -0.127016     0.060397   \n",
       "11       8.397275   2.950902   0.027334     0.081721     0.086164   \n",
       "12      16.040961 -16.908529   0.021661    -3.108356     0.081807   \n",
       "15       3.860539 -15.002175   0.028035    -0.056230     0.058889   \n",
       "16      10.434865 -24.788964   0.035740     0.044455     0.076573   \n",
       "...           ...        ...        ...          ...          ...   \n",
       "999995 -30.092898  23.443970   0.007423     0.039228     0.000251   \n",
       "999996  -7.269618 -17.111226   0.007577    -0.015732     0.000335   \n",
       "999997  10.771528   5.881404   0.011293     0.047426     0.000262   \n",
       "999998  13.670553 -15.102476   0.014972    -0.025172     0.000284   \n",
       "999999  -4.921987  -1.333483   0.010167    -2.063832     0.000276   \n",
       "\n",
       "        rel_pmdec_err  rel_pmra_err  rel_ra_err  \n",
       "8           -0.464400      0.023752    0.000478  \n",
       "11           0.028881      0.009145    0.000788  \n",
       "12          -0.003521      0.003746    0.000846  \n",
       "15          -0.003970      0.016711    0.000747  \n",
       "16          -0.003193      0.007727    0.000963  \n",
       "...               ...           ...         ...  \n",
       "999995       0.001324     -0.001222    0.000111  \n",
       "999996      -0.002431     -0.005760    0.000127  \n",
       "999997       0.005628      0.003599    0.000111  \n",
       "999998      -0.002339      0.002844    0.000116  \n",
       "999999      -0.026872     -0.008120    0.000114  \n",
       "\n",
       "[453022 rows x 13 columns]"
      ]
     },
     "execution_count": 21,
     "metadata": {},
     "output_type": "execute_result"
    }
   ],
   "source": [
    "Filter"
   ]
  },
  {
   "cell_type": "code",
   "execution_count": 22,
   "metadata": {},
   "outputs": [
    {
     "data": {
      "text/plain": [
       "array([[ 8.04437110e+16,  6.32851972e-01,  4.62911479e+01,\n",
       "         1.75793645e+01,  3.22362309e+01, -2.43459280e-01,\n",
       "        -3.66843842e+00,  4.17568483e-02,  9.35016094e-03,\n",
       "         2.86822495e-03, -3.10339163e-02, -5.19205955e-01,\n",
       "         1.61595357e-03],\n",
       "       [ 4.41538104e+17,  8.24493939e-01,  1.95185059e+01,\n",
       "         4.95808345e+01,  5.31452126e+01, -6.05911192e+00,\n",
       "        -2.54367173e+00,  1.82209001e-02,  9.26230245e-02,\n",
       "         2.60949100e-04, -1.42132361e-02, -7.68595595e-03,\n",
       "         3.09959774e-04],\n",
       "       [ 1.09156323e+18,  2.17904574e-01,  3.42558735e+01,\n",
       "         6.36758356e+01,  1.25162012e+02, -4.65385457e+01,\n",
       "        -2.17193338e+01,  7.34858651e-03,  3.66470722e-02,\n",
       "         3.68777466e-04, -2.25171154e-03, -8.29813725e-04,\n",
       "         1.56979411e-04]])"
      ]
     },
     "execution_count": 22,
     "metadata": {},
     "output_type": "execute_result"
    }
   ],
   "source": [
    "a1= np.array([Filter.iloc[18218]])\n",
    "a2= np.array([Filter.iloc[150139]])\n",
    "a3= np.array([Filter.iloc[337522]])\n",
    "\n",
    "A= np.concatenate((a1,a2,a3))\n",
    "A"
   ]
  },
  {
   "cell_type": "code",
   "execution_count": 23,
   "metadata": {},
   "outputs": [
    {
     "data": {
      "text/plain": [
       "array([ 8.04437110e+16,  6.32851972e-01,  4.62911479e+01,  1.75793645e+01,\n",
       "        3.22362309e+01, -2.43459280e-01, -3.66843842e+00,  4.17568483e-02,\n",
       "        9.35016094e-03,  2.86822495e-03, -3.10339163e-02, -5.19205955e-01,\n",
       "        1.61595357e-03])"
      ]
     },
     "execution_count": 23,
     "metadata": {},
     "output_type": "execute_result"
    }
   ],
   "source": [
    "A[0]"
   ]
  },
  {
   "cell_type": "code",
   "execution_count": 24,
   "metadata": {},
   "outputs": [],
   "source": [
    "o= Orbit(A[:,1:], radec=True)"
   ]
  },
  {
   "cell_type": "code",
   "execution_count": null,
   "metadata": {},
   "outputs": [],
   "source": []
  },
  {
   "cell_type": "code",
   "execution_count": null,
   "metadata": {},
   "outputs": [],
   "source": []
  },
  {
   "cell_type": "code",
   "execution_count": 25,
   "metadata": {},
   "outputs": [
    {
     "data": {
      "text/html": [
       "<div>\n",
       "<style scoped>\n",
       "    .dataframe tbody tr th:only-of-type {\n",
       "        vertical-align: middle;\n",
       "    }\n",
       "\n",
       "    .dataframe tbody tr th {\n",
       "        vertical-align: top;\n",
       "    }\n",
       "\n",
       "    .dataframe thead th {\n",
       "        text-align: right;\n",
       "    }\n",
       "</style>\n",
       "<table border=\"1\" class=\"dataframe\">\n",
       "  <thead>\n",
       "    <tr style=\"text-align: right;\">\n",
       "      <th></th>\n",
       "      <th>source_id</th>\n",
       "      <th>min_dist</th>\n",
       "    </tr>\n",
       "  </thead>\n",
       "  <tbody>\n",
       "    <tr>\n",
       "      <td>0</td>\n",
       "      <td>8.044371e+16</td>\n",
       "      <td>17579.364496</td>\n",
       "    </tr>\n",
       "    <tr>\n",
       "      <td>1</td>\n",
       "      <td>4.415381e+17</td>\n",
       "      <td>49580.834493</td>\n",
       "    </tr>\n",
       "    <tr>\n",
       "      <td>2</td>\n",
       "      <td>1.091563e+18</td>\n",
       "      <td>63675.835573</td>\n",
       "    </tr>\n",
       "  </tbody>\n",
       "</table>\n",
       "</div>"
      ],
      "text/plain": [
       "      source_id      min_dist\n",
       "0  8.044371e+16  17579.364496\n",
       "1  4.415381e+17  49580.834493\n",
       "2  1.091563e+18  63675.835573"
      ]
     },
     "execution_count": 25,
     "metadata": {},
     "output_type": "execute_result"
    }
   ],
   "source": [
    "Path(A, MWPotential2014, 1000, 1001)"
   ]
  },
  {
   "cell_type": "code",
   "execution_count": null,
   "metadata": {},
   "outputs": [],
   "source": []
  },
  {
   "cell_type": "markdown",
   "metadata": {},
   "source": [
    "What is left is for me to find the relative frequency and in all three dimensions and find the ones that are between 60-100myr."
   ]
  },
  {
   "cell_type": "code",
   "execution_count": null,
   "metadata": {},
   "outputs": [],
   "source": []
  },
  {
   "cell_type": "code",
   "execution_count": null,
   "metadata": {},
   "outputs": [],
   "source": []
  },
  {
   "cell_type": "code",
   "execution_count": null,
   "metadata": {},
   "outputs": [],
   "source": []
  },
  {
   "cell_type": "code",
   "execution_count": null,
   "metadata": {},
   "outputs": [],
   "source": []
  },
  {
   "cell_type": "code",
   "execution_count": null,
   "metadata": {},
   "outputs": [],
   "source": []
  },
  {
   "cell_type": "code",
   "execution_count": null,
   "metadata": {},
   "outputs": [],
   "source": []
  },
  {
   "cell_type": "code",
   "execution_count": null,
   "metadata": {},
   "outputs": [],
   "source": []
  }
 ],
 "metadata": {
  "kernelspec": {
   "display_name": "Python 3",
   "language": "python",
   "name": "python3"
  },
  "language_info": {
   "codemirror_mode": {
    "name": "ipython",
    "version": 3
   },
   "file_extension": ".py",
   "mimetype": "text/x-python",
   "name": "python",
   "nbconvert_exporter": "python",
   "pygments_lexer": "ipython3",
   "version": "3.7.4"
  }
 },
 "nbformat": 4,
 "nbformat_minor": 4
}
